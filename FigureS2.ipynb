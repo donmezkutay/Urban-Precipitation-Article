{
 "cells": [
  {
   "cell_type": "markdown",
   "metadata": {},
   "source": [
    "## 1 - Import Necessary Modules"
   ]
  },
  {
   "cell_type": "code",
   "execution_count": 2,
   "metadata": {
    "tags": []
   },
   "outputs": [],
   "source": [
    "import cartopy \n",
    "import cartopy.io.shapereader as shpreader \n",
    "import cartopy.io.shapereader as Reader \n",
    "import geopandas as gpd\n",
    "import matplotlib.pyplot as plt \n",
    "import numpy as np \n",
    "import proplot as plot\n",
    "import proplot\n",
    "import salem\n",
    "import xarray as xr \n",
    "\n",
    "from cartopy.feature import ShapelyFeature \n",
    "from glob import glob\n",
    "from mpl_toolkits.axes_grid1.inset_locator import inset_axes \n",
    "from netCDF4 import Dataset \n",
    "from shapely.geometry import mapping\n",
    "from visjobs.visualize import easy_plot\n",
    "from wrf import getvar, interpline, CoordPair, xy_to_ll, ll_to_xy \n",
    "\n",
    "# warnings\n",
    "import warnings\n",
    "warnings.filterwarnings('ignore')"
   ]
  },
  {
   "cell_type": "markdown",
   "metadata": {},
   "source": [
    "## 2. Open Terra-Aqua Data"
   ]
  },
  {
   "cell_type": "code",
   "execution_count": 3,
   "metadata": {},
   "outputs": [],
   "source": [
    "ds = pd.read_excel(r'\\datasets\\ankara_0918T.xlsx', na_values=-999.0)\n",
    "MODIS_terra_data = xr.open_dataset(r'\\datasets\\gathered\\Ankara_MODIS_Terra_1018.nc')\n",
    "MODIS_aqua_data = xr.open_dataset(r'\\datasets\\gathered_aqua\\Ankara_MODIS_Aqua_1018.nc')"
   ]
  },
  {
   "cell_type": "markdown",
   "metadata": {},
   "source": [
    "## 3. AWS Monthly UHI between 2009-2018"
   ]
  },
  {
   "cell_type": "code",
   "execution_count": 4,
   "metadata": {},
   "outputs": [],
   "source": [
    "stations_selected = {'17127' : [837, 40.0788, 32.5657, 'Akıncı Airport'],\n",
    "                     '17128' : [958, 40.124, 32.9992, 'Esenboğa Airport'],\n",
    "                     '17129' : [807, 39.9558, 32.6854, 'Etimesgut Airport'],\n",
    "                     '17130': [890, 39.9727, 32.8637, 'Ankara Bölge'],\n",
    "                     '17131' : [819, 39.9343, 32.7387, 'Güvercinlik Airport'],\n",
    "                     '17134': [1098, 39.8032, 32.8434, 'Ufuk Danışment'],\n",
    "                     '17137': [1797, 39.7985, 32.9716, 'Elmadağ Radar'],\n",
    "                     '17651' : [940, 39.1525, 32.1283, 'Polatlı Tigem'],\n",
    "                     '17664' : [1030, 40.4729, 32.6441, 'Kızılcahamam'],\n",
    "                     '17679' : [648, 40.1733, 31.332, 'Nallıhan'],\n",
    "                     '17680' : [680, 40.1608, 31.9172, 'Beypazarı'],\n",
    "                     '17715' : [1113, 39.92, 33.2125, 'Elmadağ Barutsan Fabrikası'],\n",
    "                     '17728' : [886, 39.5834, 32.1624, 'Polatlı'],\n",
    "                     '17729' : [1248, 39.5546, 33.1089, 'Bala'],\n",
    "                     '17731' : [911, 38.9539, 33.4218, 'Şereflikoçhisar'],\n",
    "                     '17733' : [1065, 39.613, 32.672, 'Haymana Tarım']}\n",
    "\n",
    "urban1 = stations_selected['17130'] #ankara bölge\n",
    "urban2 = stations_selected['17131'] #güvercinlik airport\n",
    "rural1 = stations_selected['17128'] #esenboğa airport\n",
    "rural2 = stations_selected['17134'] #ufuk danışment - gölbaşı"
   ]
  },
  {
   "cell_type": "code",
   "execution_count": 5,
   "metadata": {},
   "outputs": [],
   "source": [
    "#cancel out altitude differences using a universal lapse rate\n",
    "dst = ds.copy(deep=True)\n",
    "for i in stations_selected:\n",
    "    factor = (stations_selected[i][0] * 0.65) / 100 # cancel out altitude differences\n",
    "    dst[int(i)] = dst[int(i)] + factor"
   ]
  },
  {
   "cell_type": "code",
   "execution_count": 6,
   "metadata": {},
   "outputs": [],
   "source": [
    "date_used = pd.date_range('2009-01-01 00', '2018-12-31 23', freq='1H')\n",
    "dst.index = date_used"
   ]
  },
  {
   "cell_type": "code",
   "execution_count": 7,
   "metadata": {},
   "outputs": [],
   "source": [
    "dst.rename(columns={17130: 'urban1', 17131:'urban2', 17128: 'rural1', 17134:'rural2'}, inplace=True)"
   ]
  },
  {
   "cell_type": "code",
   "execution_count": 8,
   "metadata": {},
   "outputs": [],
   "source": [
    "# resample to daily\n",
    "dataset = dst[['urban1', 'urban2', 'rural1', 'rural2']].resample('1D').max()"
   ]
  },
  {
   "cell_type": "code",
   "execution_count": 9,
   "metadata": {},
   "outputs": [],
   "source": [
    "# create a dataframe using UHI values\n",
    "dataset_UHI = pd.DataFrame()\n",
    "dataset_UHI['urban1-rural1'] = (dataset['urban1'] - dataset['rural1']).values\n",
    "dataset_UHI['urban1-rural2'] = (dataset['urban1'] - dataset['rural2']).values\n",
    "dataset_UHI['urban2-rural1'] = (dataset['urban2'] - dataset['rural1']).values\n",
    "dataset_UHI['urban2-rural2'] = (dataset['urban2'] - dataset['rural2']).values\n",
    "dataset_UHI.index = dataset.index"
   ]
  },
  {
   "cell_type": "code",
   "execution_count": 10,
   "metadata": {},
   "outputs": [],
   "source": [
    "dataset_UHI_monthly_mean = dataset_UHI.resample('M').mean()"
   ]
  },
  {
   "cell_type": "code",
   "execution_count": 11,
   "metadata": {},
   "outputs": [],
   "source": [
    "dataset_UHI_monthly_yearly_mean = dataset_UHI_monthly_mean.groupby(by=dataset_UHI_monthly_mean.index.month).mean()"
   ]
  },
  {
   "cell_type": "code",
   "execution_count": 12,
   "metadata": {},
   "outputs": [],
   "source": [
    "months = ['Jan', 'Feb', 'Mar', 'Apr', 'May', 'Jun', 'Jul', 'Aug', 'Sep', 'Oct', 'Nov', 'Dec']\n",
    "dataset_UHI_monthly_yearly_mean.index = months"
   ]
  },
  {
   "cell_type": "markdown",
   "metadata": {},
   "source": [
    "## 4. MODIS Monthly UHI between 2010-2018"
   ]
  },
  {
   "cell_type": "code",
   "execution_count": 13,
   "metadata": {},
   "outputs": [],
   "source": [
    "# define cartezian coords of urban and rural box for UHI calculation\n",
    "# remember MODIS and AWS UHI calculation methods are not the same\n",
    "sol_alt_urban = [210, 150]\n",
    "sol_ust_urban = [210, 175]\n",
    "sag_alt_urban = [265, 150]\n",
    "sag_ust_urban = [265, 175]\n",
    "\n",
    "sol_alt_rural = [255, 180]\n",
    "sol_ust_rural = [255, 195]\n",
    "sag_alt_rural = [275, 180]\n",
    "sag_ust_rural = [275, 195]"
   ]
  },
  {
   "cell_type": "code",
   "execution_count": 14,
   "metadata": {},
   "outputs": [],
   "source": [
    "MODIS_terra_urban_box_mean = MODIS_terra_data['LST'].sel({'y': slice(sol_alt_urban[1], sol_ust_urban[1]),\n",
    "                                                          'x': slice(sol_alt_urban[0], sag_alt_urban[0]),}).mean(\n",
    "                             dim = ['y', 'x'] )\n",
    "\n",
    "MODIS_terra_rural_box_mean = MODIS_terra_data['LST'].sel({'y': slice(sol_alt_rural[1], sol_ust_rural[1]),\n",
    "                                                          'x': slice(sol_alt_rural[0], sag_alt_rural[0]),}).mean(\n",
    "                             dim = ['y', 'x'] )"
   ]
  },
  {
   "cell_type": "code",
   "execution_count": 15,
   "metadata": {},
   "outputs": [],
   "source": [
    "MODIS_aqua_urban_box_mean = MODIS_aqua_data['LST'].sel({'y': slice(sol_alt_urban[1], sol_ust_urban[1]),\n",
    "                                                        'x': slice(sol_alt_urban[0], sag_alt_urban[0]),}).mean(\n",
    "                            dim = ['y', 'x'] )\n",
    "\n",
    "MODIS_aqua_rural_box_mean = MODIS_aqua_data['LST'].sel({'y': slice(sol_alt_rural[1], sol_ust_rural[1]),\n",
    "                                                        'x': slice(sol_alt_rural[0], sag_alt_rural[0]),}).mean(\n",
    "                            dim = ['y', 'x'] )"
   ]
  },
  {
   "cell_type": "code",
   "execution_count": 16,
   "metadata": {},
   "outputs": [],
   "source": [
    "MODIS_terra_UHI = MODIS_terra_urban_box_mean - MODIS_terra_rural_box_mean\n",
    "MODIS_aqua_UHI = MODIS_aqua_urban_box_mean - MODIS_aqua_rural_box_mean"
   ]
  },
  {
   "cell_type": "code",
   "execution_count": 17,
   "metadata": {},
   "outputs": [],
   "source": [
    "MODIS_terra_monthly_yearly_mean = MODIS_terra_UHI.groupby('date.month').mean()\n",
    "MODIS_aqua_monthly_yearly_mean = MODIS_aqua_UHI.groupby('date.month').mean()"
   ]
  },
  {
   "cell_type": "markdown",
   "metadata": {},
   "source": [
    "## 5. Plot"
   ]
  },
  {
   "cell_type": "code",
   "execution_count": null,
   "metadata": {},
   "outputs": [],
   "source": [
    "plt.rcParams['figure.figsize'] = 13, 9\n",
    "fig = plt.figure()\n",
    "ax = fig.add_subplot(2,1,1)\n",
    "ax2 = fig.add_subplot(2,1,2)\n",
    "\n",
    "dataset_UHI_monthly_yearly_mean['urban1-rural1'].plot(ax=ax, color='#9be3ff', label='17130-17128 (Urban1 - Rural1)', linewidth=2.2)\n",
    "dataset_UHI_monthly_yearly_mean['urban1-rural2'].plot(ax=ax, color='#f00', label='17130-17134 (Urban1 - Rural2)', linewidth=2.2)\n",
    "dataset_UHI_monthly_yearly_mean['urban2-rural1'].plot(ax=ax, color='#00b900', label='17131-17128 (Urban2 - Rural1)', linewidth=2.2)\n",
    "dataset_UHI_monthly_yearly_mean['urban2-rural2'].plot(ax=ax, color='#797100', label='17131-17134 (Urban2 - Rural2)', linewidth=2.2)\n",
    "MODIS_terra_monthly_yearly_mean.plot(ax=ax2, color='black', label='MODIS-Terra (Urban Box - Rural Box)', linewidth=2.2)\n",
    "MODIS_aqua_monthly_yearly_mean.plot(ax=ax2, color='black', linestyle='--', label='MODIS-Aqua (Urban Box - Rural Box)', linewidth=2.2)\n",
    "\n",
    "ax.tick_params(axis='y', labelsize=11)\n",
    "ax.tick_params(axis='x', labelsize=11)\n",
    "ax.axhline(y=0, linewidth=1, linestyle='--', color='black')\n",
    "ax.axvline(x=4, linewidth=1, linestyle='--', color='black')\n",
    "ax.axvline(x=7, linewidth=1, linestyle='--', color='black')\n",
    "ax2.axhline(y=0, linewidth=1, linestyle='--', color='black')\n",
    "ax2.axvline(x=5, linewidth=1, linestyle='--', color='black')\n",
    "ax2.axvline(x=8, linewidth=1, linestyle='--', color='black')\n",
    "ax.legend(fontsize='large')\n",
    "ax2.legend(fontsize='large')\n",
    "ax2.set_xlabel('Months', fontsize=14, fontweight='bold')\n",
    "ax.set_ylabel('AWS UHI Magnitude (°C)', fontsize=14, fontweight='bold')\n",
    "ax2.set_ylabel('MODIS UHI Magnitude (°C)', fontsize=14, fontweight='bold')\n",
    "\n",
    "ax.set_xticks([ 0,  1., 2,  3., 4,  5., 6, 7., 8, 9, 10, 11])\n",
    "ax.set_yticks([-0.2, 0, 0.2, 0.4, 0.6, 0.8, 1.0, 1.2])\n",
    "ax.set_xticklabels(months)\n",
    "ax.grid()\n",
    "\n",
    "ax2.set_xticks([ 1., 2,  3., 4,  5., 6, 7., 8, 9, 10, 11, 12])\n",
    "ax2.set_yticks([-1.5, -1.0, -0.5, 0, 0.5, 1.0, 1.5, 2.0, 2.5])\n",
    "ax2.set_xticklabels(months)\n",
    "ax2.grid()\n",
    "\n",
    "plt.savefig(r'pictures\\FigureS2.jpeg',\n",
    "              bbox_inches='tight', optimize=True, progressive=True, dpi=500)"
   ]
  }
 ],
 "metadata": {
  "kernelspec": {
   "display_name": "Python 3 (ipykernel)",
   "language": "python",
   "name": "python3"
  },
  "language_info": {
   "codemirror_mode": {
    "name": "ipython",
    "version": 3
   },
   "file_extension": ".py",
   "mimetype": "text/x-python",
   "name": "python",
   "nbconvert_exporter": "python",
   "pygments_lexer": "ipython3",
   "version": "3.9.7"
  }
 },
 "nbformat": 4,
 "nbformat_minor": 4
}
