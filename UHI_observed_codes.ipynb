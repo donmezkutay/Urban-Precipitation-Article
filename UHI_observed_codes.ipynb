{
 "cells": [
  {
   "cell_type": "markdown",
   "metadata": {},
   "source": [
    "# Observed UHI Magnitudes"
   ]
  },
  {
   "cell_type": "markdown",
   "metadata": {},
   "source": [
    "## 1 - Import Necessary Modules"
   ]
  },
  {
   "cell_type": "code",
   "execution_count": 2,
   "metadata": {},
   "outputs": [],
   "source": [
    "import matplotlib.pyplot as plt\n",
    "import numpy as np\n",
    "import pandas as pd\n",
    "import xarray as xr\n",
    "\n",
    "# warnings\n",
    "import warnings\n",
    "warnings.filterwarnings('ignore')"
   ]
  },
  {
   "cell_type": "markdown",
   "metadata": {},
   "source": [
    "## 2 - Open Datasets"
   ]
  },
  {
   "cell_type": "code",
   "execution_count": 2,
   "metadata": {},
   "outputs": [],
   "source": [
    "ds = pd.read_excel(r'ankara_0918T.xlsx', na_values=-999.0)\n",
    "MODIS_terra_data = xr.open_dataset(r'Ankara_MODIS_Terra_1018.nc')\n",
    "MODIS_aqua_data = xr.open_dataset(r'Ankara_MODIS_Aqua_1018.nc')"
   ]
  },
  {
   "cell_type": "markdown",
   "metadata": {},
   "source": [
    "## 3 - Define Station Information"
   ]
  },
  {
   "cell_type": "code",
   "execution_count": 3,
   "metadata": {},
   "outputs": [],
   "source": [
    "stations_selected = {'17127' : [837, 40.0788, 32.5657, 'Akıncı Airport'],\n",
    "                     '17128' : [958, 40.124, 32.9992, 'Esenboğa Airport'],\n",
    "                     '17129' : [807, 39.9558, 32.6854, 'Etimesgut Airport'],\n",
    "                     '17130': [890, 39.9727, 32.8637, 'Ankara Bölge'],\n",
    "                     '17131' : [819, 39.9343, 32.7387, 'Güvercinlik Airport'],\n",
    "                     '17134': [1098, 39.8032, 32.8434, 'Ufuk Danışment'],\n",
    "                     '17137': [1797, 39.7985, 32.9716, 'Elmadağ Radar'],\n",
    "                     '17651' : [940, 39.1525, 32.1283, 'Polatlı Tigem'],\n",
    "                     '17664' : [1030, 40.4729, 32.6441, 'Kızılcahamam'],\n",
    "                     '17679' : [648, 40.1733, 31.332, 'Nallıhan'],\n",
    "                     '17680' : [680, 40.1608, 31.9172, 'Beypazarı'],\n",
    "                     '17715' : [1113, 39.92, 33.2125, 'Elmadağ Barutsan Fabrikası'],\n",
    "                     '17728' : [886, 39.5834, 32.1624, 'Polatlı'],\n",
    "                     '17729' : [1248, 39.5546, 33.1089, 'Bala'],\n",
    "                     '17731' : [911, 38.9539, 33.4218, 'Şereflikoçhisar'],\n",
    "                     '17733' : [1065, 39.613, 32.672, 'Haymana Tarım']}\n",
    "\n",
    "urban1 = stations_selected['17130'] #ankara bölge\n",
    "urban2 = stations_selected['17131'] #güvercinlik airport\n",
    "rural1 = stations_selected['17128'] #esenboğa airport\n",
    "rural2 = stations_selected['17134'] #ufuk danışment - gölbaşı"
   ]
  },
  {
   "cell_type": "markdown",
   "metadata": {},
   "source": [
    "## 4 - Cancel Out Altitude Differences"
   ]
  },
  {
   "cell_type": "code",
   "execution_count": 4,
   "metadata": {},
   "outputs": [],
   "source": [
    "#cancel out altitude differences using a universal lapse rate\n",
    "dst = ds.copy(deep=True)\n",
    "for i in stations_selected:\n",
    "    factor = (stations_selected[i][0] * 0.65) / 100 # cancel out altitude differences\n",
    "    dst[int(i)] = dst[int(i)] + factor"
   ]
  },
  {
   "cell_type": "markdown",
   "metadata": {},
   "source": [
    "## 5 - Set Dates"
   ]
  },
  {
   "cell_type": "code",
   "execution_count": 9,
   "metadata": {},
   "outputs": [],
   "source": [
    "date_used = pd.date_range('2009-01-01 00', '2018-12-31 23', freq='1H')\n",
    "dst.index = date_used"
   ]
  },
  {
   "cell_type": "code",
   "execution_count": 45,
   "metadata": {},
   "outputs": [],
   "source": [
    "spring_date_used = pd.date_range('2014-05-04 00', '2014-05-05 23', freq='1H')\n",
    "#spring_dst.index = spring_date_used\n",
    "\n",
    "summer_date_used = pd.date_range('2016-08-27 00', '2016-08-28 23', freq='1H')\n",
    "#summer_dst.index = summer_date_used"
   ]
  },
  {
   "cell_type": "code",
   "execution_count": 46,
   "metadata": {},
   "outputs": [],
   "source": [
    "spring_dst = dst.loc[spring_date_used]\n",
    "summer_dst = dst.loc[summer_date_used]"
   ]
  },
  {
   "cell_type": "markdown",
   "metadata": {},
   "source": [
    "## 6 - Calculate UHI"
   ]
  },
  {
   "cell_type": "code",
   "execution_count": 47,
   "metadata": {},
   "outputs": [],
   "source": [
    "spring_dst.rename(columns={17130: 'urban1', 17131:'urban2',\n",
    "                           17128: 'rural1', 17134:'rural2'},\n",
    "                  inplace=True)\n",
    "\n",
    "summer_dst.rename(columns={17130: 'urban1', 17131:'urban2',\n",
    "                           17128: 'rural1', 17134:'rural2'},\n",
    "                  inplace=True)"
   ]
  },
  {
   "cell_type": "code",
   "execution_count": 48,
   "metadata": {},
   "outputs": [],
   "source": [
    "spring_UN = spring_dst[['urban1', 'urban2', 'rural1', 'rural2']]\n",
    "summer_UN = summer_dst[['urban1', 'urban2', 'rural1', 'rural2']]"
   ]
  },
  {
   "cell_type": "code",
   "execution_count": 49,
   "metadata": {},
   "outputs": [],
   "source": [
    "spring_UHI = pd.DataFrame()\n",
    "spring_UHI['urban1-rural1'] = (spring_UN['urban1'] - spring_UN['rural1']).values\n",
    "spring_UHI['urban1-rural2'] = (spring_UN['urban1'] - spring_UN['rural2']).values\n",
    "spring_UHI['urban2-rural1'] = (spring_UN['urban2'] - spring_UN['rural1']).values\n",
    "spring_UHI['urban2-rural2'] = (spring_UN['urban2'] - spring_UN['rural2']).values\n",
    "spring_UHI.index = spring_date_used"
   ]
  },
  {
   "cell_type": "code",
   "execution_count": 50,
   "metadata": {},
   "outputs": [],
   "source": [
    "summer_UHI = pd.DataFrame()\n",
    "summer_UHI['urban1-rural1'] = (summer_UN['urban1'] - summer_UN['rural1']).values\n",
    "summer_UHI['urban1-rural2'] = (summer_UN['urban1'] - summer_UN['rural2']).values\n",
    "summer_UHI['urban2-rural1'] = (summer_UN['urban2'] - summer_UN['rural1']).values\n",
    "summer_UHI['urban2-rural2'] = (summer_UN['urban2'] - summer_UN['rural2']).values\n",
    "summer_UHI.index = summer_date_used"
   ]
  },
  {
   "cell_type": "code",
   "execution_count": 51,
   "metadata": {},
   "outputs": [
    {
     "data": {
      "text/plain": [
       "17"
      ]
     },
     "execution_count": 51,
     "metadata": {},
     "output_type": "execute_result"
    }
   ],
   "source": [
    "np.argmax(summer_UHI.max(axis=1))"
   ]
  },
  {
   "cell_type": "code",
   "execution_count": 59,
   "metadata": {},
   "outputs": [
    {
     "data": {
      "text/plain": [
       "0.8722500000000006"
      ]
     },
     "execution_count": 59,
     "metadata": {},
     "output_type": "execute_result"
    }
   ],
   "source": [
    "summer_UHI.loc['2016-08-28 09:00:00':'2016-08-28 12:00:00'].mean().mean()"
   ]
  },
  {
   "cell_type": "code",
   "execution_count": 53,
   "metadata": {},
   "outputs": [
    {
     "data": {
      "text/plain": [
       "4"
      ]
     },
     "execution_count": 53,
     "metadata": {},
     "output_type": "execute_result"
    }
   ],
   "source": [
    "np.argmax(spring_UHI.max(axis=1))"
   ]
  },
  {
   "cell_type": "code",
   "execution_count": 60,
   "metadata": {},
   "outputs": [
    {
     "data": {
      "text/plain": [
       "0.034749999999998504"
      ]
     },
     "execution_count": 60,
     "metadata": {},
     "output_type": "execute_result"
    }
   ],
   "source": [
    "spring_UHI.loc['2014-05-05 09:00:00':'2014-05-05 12:00:00'].mean().mean()"
   ]
  }
 ],
 "metadata": {
  "kernelspec": {
   "display_name": "Python 3 (ipykernel)",
   "language": "python",
   "name": "python3"
  },
  "language_info": {
   "codemirror_mode": {
    "name": "ipython",
    "version": 3
   },
   "file_extension": ".py",
   "mimetype": "text/x-python",
   "name": "python",
   "nbconvert_exporter": "python",
   "pygments_lexer": "ipython3",
   "version": "3.9.7"
  }
 },
 "nbformat": 4,
 "nbformat_minor": 4
}
