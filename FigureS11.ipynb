{
 "cells": [
  {
   "cell_type": "markdown",
   "metadata": {},
   "source": [
    "## 1 - Import Necessary Modules"
   ]
  },
  {
   "cell_type": "code",
   "execution_count": 2,
   "metadata": {
    "tags": []
   },
   "outputs": [],
   "source": [
    "import cartopy \n",
    "import cartopy.io.shapereader as shpreader \n",
    "import cartopy.io.shapereader as Reader \n",
    "import geopandas as gpd\n",
    "import matplotlib.pyplot as plt \n",
    "import numpy as np \n",
    "import proplot as plot\n",
    "import proplot\n",
    "import salem\n",
    "import xarray as xr \n",
    "\n",
    "from cartopy.feature import ShapelyFeature \n",
    "from glob import glob\n",
    "from mpl_toolkits.axes_grid1.inset_locator import inset_axes \n",
    "from netCDF4 import Dataset \n",
    "from shapely.geometry import mapping\n",
    "from visjobs.visualize import easy_plot\n",
    "from wrf import getvar, interpline, CoordPair, xy_to_ll, ll_to_xy \n",
    "\n",
    "# warnings\n",
    "import warnings\n",
    "warnings.filterwarnings('ignore')"
   ]
  },
  {
   "cell_type": "markdown",
   "metadata": {},
   "source": [
    "## 2. Open data"
   ]
  },
  {
   "cell_type": "code",
   "execution_count": 2,
   "metadata": {},
   "outputs": [],
   "source": [
    "dt1 = xr.open_dataset(r'/datasets/summer_run_input/ankara_thompson_urban/wrfinput_d03')\n",
    "dt1_aid = Dataset(r'/datasets/summer_run_input/ankara_thompson_urban/wrfinput_d03')"
   ]
  },
  {
   "cell_type": "code",
   "execution_count": 3,
   "metadata": {},
   "outputs": [],
   "source": [
    "sol_alt = xy_to_ll(dt1_aid, x=0, y=0).values\n",
    "sol_ust = xy_to_ll(dt1_aid, x=0, y=200).values\n",
    "sag_ust = xy_to_ll(dt1_aid, x=200, y=200).values\n",
    "sag_alt = xy_to_ll(dt1_aid, x=200, y=0).values"
   ]
  },
  {
   "cell_type": "code",
   "execution_count": 10,
   "metadata": {},
   "outputs": [
    {
     "data": {
      "text/plain": [
       "array([38.83985054, 33.56270276])"
      ]
     },
     "execution_count": 10,
     "metadata": {},
     "output_type": "execute_result"
    }
   ],
   "source": [
    "sag_alt"
   ]
  },
  {
   "cell_type": "code",
   "execution_count": 4,
   "metadata": {},
   "outputs": [],
   "source": [
    "# define lon lat and lu_index \n",
    "lats = dt1['XLAT']\n",
    "lons = dt1['XLONG']\n",
    "lu_index = dt1['LU_INDEX']"
   ]
  },
  {
   "cell_type": "code",
   "execution_count": 5,
   "metadata": {},
   "outputs": [],
   "source": [
    "station_detail_temp = {'17128' : [958, 40.124, 32.9992, 'Esenboğa Airport'],\n",
    "                       '17130': [890, 39.9727, 32.8637, 'Ankara Bölge'],\n",
    "                       '17131' : [819, 39.9343, 32.7387, 'Güvercinlik Airport'],\n",
    "                       '17134': [1098, 39.8032, 32.8434, 'Ufuk Danışment']}"
   ]
  },
  {
   "cell_type": "markdown",
   "metadata": {},
   "source": [
    "## 3. Projections"
   ]
  },
  {
   "cell_type": "code",
   "execution_count": 6,
   "metadata": {},
   "outputs": [],
   "source": [
    "# Get the cartopy mapping object\n",
    "cart_proj = cartopy.crs.LambertConformal(32.834, 39.873)\n",
    "#Turkey shapefiles\n",
    "shape_path = r'\\ShapeFiles\\tur_polbnda_adm1.shp'\n",
    "shape_path2 = r'\\ShapeFiles\\tur_polbnda_adm2.shp'"
   ]
  },
  {
   "cell_type": "code",
   "execution_count": 7,
   "metadata": {},
   "outputs": [],
   "source": [
    "#Define urban and rural box coordinates - \n",
    "urban_sol_alt_coordinates = [32.60, 39.85]\n",
    "urban_sol_ust_coordinates = [32.60, 40.01]\n",
    "urban_sag_alt_coordinates = [32.90, 39.85]\n",
    "urban_sag_ust_coordinates = [32.90, 40.01]\n",
    "\n",
    "rural_sol_alt_coordinates = [32.89, 40.07]\n",
    "rural_sol_ust_coordinates = [32.89, 40.17]\n",
    "rural_sag_alt_coordinates = [33.08, 40.07]\n",
    "rural_sag_ust_coordinates = [33.08, 40.17]"
   ]
  },
  {
   "cell_type": "markdown",
   "metadata": {},
   "source": [
    "## 4. Plot"
   ]
  },
  {
   "cell_type": "code",
   "execution_count": 8,
   "metadata": {},
   "outputs": [],
   "source": [
    "# color bar creation\n",
    "cb_list = ['#f00',\n",
    "           '#fffcd7',\n",
    "           '#797100',\n",
    "           '#009d86',\n",
    "           '#70cdc0',\n",
    "           '#c8bb27',\n",
    "           '#00b900',\n",
    "           '#009200',\n",
    "           '#006900',\n",
    "           '#9be3ff',\n",
    "           '#929292',\n",
    "           '#fcee81'\n",
    "          ]\n",
    "\n",
    "\n",
    "# make a color map of fixed colors\n",
    "unique = np.unique(lu_index[0])\n",
    "cmap = matplotlib.colors.ListedColormap(cb_list)\n",
    "bounds= np.concatenate([np.array([0]), unique,])\n",
    "norm = matplotlib.colors.BoundaryNorm(bounds, cmap.N,)\n",
    "\n",
    "shape_path = r'\\ShapeFiles\\tur_polbnda_adm1.shp'"
   ]
  },
  {
   "cell_type": "code",
   "execution_count": null,
   "metadata": {},
   "outputs": [],
   "source": [
    "# Create a figure\n",
    "# -------------------------------------------------------\n",
    "#projeksiyon (wrf'tan sağlanan)\n",
    "cart_proj = cartopy.crs.LambertConformal( 32.406708, 39.744022)\n",
    "\n",
    "# -------------------------------------------------------\n",
    "#figüre yaratalım\n",
    "fig = plt.figure(figsize=(21,19))\n",
    "ax = plt.axes(projection=cart_proj)\n",
    "\n",
    "# -------------------------------------------------------\n",
    "# haritada hangi lat ve lon aralığını görselleştirelim?\n",
    "ax.set_extent([32.4, 33.3, 39.75, 40.25])\n",
    "       \n",
    "# -------------------------------------------------------\n",
    "# cartopy kullanarak shapefileleri okuyalım\n",
    "shp_file_il = cartopy.io.shapereader.Reader(shape_path)\n",
    "shp_file_ilce = cartopy.io.shapereader.Reader(shape_path2)\n",
    "    \n",
    "# -------------------------------------------------------\n",
    "# il sınırları\n",
    "shape_feature_il = ShapelyFeature(shp_file_il.geometries(),\n",
    "                                  cartopy.crs.PlateCarree(), edgecolor='none', linewidths=0.9,\n",
    "                                  facecolor='#f0e7d8', zorder=1.5)\n",
    "shape_feature_il_copy = ShapelyFeature(shp_file_il.geometries(),\n",
    "                                       cartopy.crs.PlateCarree(), edgecolor='sienna', linewidths=2.5,\n",
    "                                       facecolor='none', zorder=3)\n",
    "\n",
    "# -------------------------------------------------------\n",
    "#ilçe sınırları\n",
    "shape_feature_ilce = ShapelyFeature(shp_file_ilce.geometries(),\n",
    "                                    cartopy.crs.PlateCarree(), edgecolor='sienna', linewidths=0.5,\n",
    "                                    facecolor='none', zorder=3)\n",
    "\n",
    "# -------------------------------------------------------\n",
    "# shapefileları feature olarak axisimize ekleyelim    \n",
    "ax.add_feature(shape_feature_il) \n",
    "ax.add_feature(shape_feature_il_copy)\n",
    "ax.add_feature(shape_feature_ilce)\n",
    "\n",
    "# -------------------------------------------------------\n",
    "# lu_indexi çizelim harita üzerine    \n",
    "interval = np.arange(0, 22, 1)\n",
    "mesh = plt.pcolormesh(lons.values[0], lats.values[0], lu_index.values[0]-0.5, norm=norm, cmap=cmap, \n",
    "                      transform=cartopy.crs.PlateCarree(), zorder=2)\n",
    "\n",
    "# -------------------------------------------------------\n",
    "\n",
    "# urban extent\n",
    "plt.plot([urban_sol_alt_coordinates[0], urban_sol_ust_coordinates[0]], \n",
    "         [urban_sol_alt_coordinates[1], urban_sol_ust_coordinates[1]], \n",
    "         transform=cartopy.crs.PlateCarree(), color='black', linewidth=3.0)\n",
    "\n",
    "plt.plot([urban_sol_ust_coordinates[0], urban_sag_ust_coordinates[0]], \n",
    "         [urban_sol_ust_coordinates[1], urban_sag_ust_coordinates[1]], \n",
    "         transform=cartopy.crs.PlateCarree(), color='black', linewidth=3.0)\n",
    "\n",
    "plt.plot([urban_sag_ust_coordinates[0], urban_sag_alt_coordinates[0]], \n",
    "         [urban_sag_ust_coordinates[1], urban_sag_alt_coordinates[1]], \n",
    "         transform=cartopy.crs.PlateCarree(), color='black', linewidth=3.0)\n",
    "\n",
    "plt.plot([urban_sol_alt_coordinates[0], urban_sag_alt_coordinates[0]], \n",
    "         [urban_sol_alt_coordinates[1], urban_sag_alt_coordinates[1]], \n",
    "         transform=cartopy.crs.PlateCarree(), color='black', linewidth=3.0)\n",
    "\n",
    "# nourban extent\n",
    "plt.plot([rural_sol_alt_coordinates[0], rural_sol_ust_coordinates[0]], \n",
    "         [rural_sol_alt_coordinates[1], rural_sol_ust_coordinates[1]], \n",
    "         transform=cartopy.crs.PlateCarree(), color='black', linewidth=3.0)\n",
    "\n",
    "plt.plot([rural_sol_ust_coordinates[0], rural_sag_ust_coordinates[0]], \n",
    "         [rural_sol_ust_coordinates[1], rural_sag_ust_coordinates[1]], \n",
    "         transform=cartopy.crs.PlateCarree(), color='black', linewidth=3.0)\n",
    "\n",
    "plt.plot([rural_sag_ust_coordinates[0], rural_sag_alt_coordinates[0]], \n",
    "         [rural_sag_ust_coordinates[1], rural_sag_alt_coordinates[1]], \n",
    "         transform=cartopy.crs.PlateCarree(), color='black', linewidth=3.0)\n",
    "\n",
    "plt.plot([rural_sol_alt_coordinates[0], rural_sag_alt_coordinates[0]], \n",
    "         [rural_sol_alt_coordinates[1], rural_sag_alt_coordinates[1]], \n",
    "         transform=cartopy.crs.PlateCarree(), color='black', linewidth=3.0)\n",
    "\n",
    "for i,j in zip(station_detail_temp, range(len(station_detail_temp))):\n",
    "    if i == '17128' or i=='17134':\n",
    "        ax.text(station_detail_temp[i][2], station_detail_temp[i][1]+0.015, i, color='k',  zorder=5, ha='center',weight='bold', fontsize=50 , transform = cartopy.crs.PlateCarree())\n",
    "        ax.plot(station_detail_temp[i][2], station_detail_temp[i][1], marker='.', markersize=55, color='black',  zorder=5, transform = cartopy.crs.PlateCarree())\n",
    "    else:\n",
    "        ax.text(station_detail_temp[i][2], station_detail_temp[i][1]+0.015, i, color='k',  zorder=5, ha='center',weight='bold', fontsize=50 , transform = cartopy.crs.PlateCarree())\n",
    "        ax.plot(station_detail_temp[i][2], station_detail_temp[i][1], marker='.', markersize=55, color='blue',  zorder=5, transform = cartopy.crs.PlateCarree())\n",
    "    \n",
    "\n",
    "# -------------------------------------------------------\n",
    "# save figure\n",
    "plt.savefig(r'pictures\\FigureS11.jpeg',\n",
    "            bbox_inches='tight', optimize=True, progressive=True, dpi=500)\n",
    "#plt.savefig(r'pictures\\MODIS_AWS_BOX_LOCS_v2.eps',\n",
    " #           bbox_inches='tight', optimize=True, progressive=True, dpi=1200)"
   ]
  }
 ],
 "metadata": {
  "kernelspec": {
   "display_name": "Python 3 (ipykernel)",
   "language": "python",
   "name": "python3"
  },
  "language_info": {
   "codemirror_mode": {
    "name": "ipython",
    "version": 3
   },
   "file_extension": ".py",
   "mimetype": "text/x-python",
   "name": "python",
   "nbconvert_exporter": "python",
   "pygments_lexer": "ipython3",
   "version": "3.9.7"
  }
 },
 "nbformat": 4,
 "nbformat_minor": 4
}
